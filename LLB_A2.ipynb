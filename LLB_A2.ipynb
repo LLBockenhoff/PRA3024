{
  "nbformat": 4,
  "nbformat_minor": 0,
  "metadata": {
    "colab": {
      "name": "LLB_A2.ipynb",
      "provenance": [],
      "collapsed_sections": [],
      "toc_visible": true,
      "include_colab_link": true
    },
    "kernelspec": {
      "name": "python2",
      "display_name": "Python 2"
    },
    "accelerator": "GPU"
  },
  "cells": [
    {
      "cell_type": "markdown",
      "metadata": {
        "id": "view-in-github",
        "colab_type": "text"
      },
      "source": [
        "<a href=\"https://colab.research.google.com/github/LLBockenhoff/PRA3024/blob/main/LLB_A2.ipynb\" target=\"_parent\"><img src=\"https://colab.research.google.com/assets/colab-badge.svg\" alt=\"Open In Colab\"/></a>"
      ]
    },
    {
      "cell_type": "markdown",
      "metadata": {
        "id": "1JafiSIrvEKW"
      },
      "source": [
        "Welcome to Week 4!\n",
        "\n",
        "We will be focussing in Particle Physics Analysis and detecting matter/antimatter assymetries in the production of certain types of particles. ![LHCb detector](https://www1b.physik.rwth-aachen.de/~schael/LHCb_files/LHCB%20PREVIEW-white-bg.jpg)\n",
        "\n",
        "The data we are using comes from LHCb - one of the experiments at LHC. It is a highly specialised detector aimed at detecting decays involving the B-quark. Unlike the other major experiments, LHCb detects particles very close to the source and looks almost exclusively in the forward direction - this gives the detector many advantages compared to other experiments at LHC.\n",
        "\n",
        "In order to get started, we need to access the [ROOT framework](https://root.cern.ch/) and download some datafiles into this machine.\n",
        "\n",
        "If you are using Google Colab then you need to ensure that you are using Python 2:\n",
        "\n",
        "Before we start - we have to use Python2 (not Python 3), so we should choose this as an option in \"Runtime\" -> \"Change Runtime Type\" at the top or create a new notebook in Python2 by appending \"&runtime=python2\" to the URL."
      ]
    },
    {
      "cell_type": "code",
      "metadata": {
        "id": "vFclIR72w0mU",
        "colab": {
          "base_uri": "https://localhost:8080/"
        },
        "outputId": "06440754-3ff5-4da6-a6b0-e1c8319cbb80"
      },
      "source": [
        "#Colab only\n",
        "#we are going to make a directory called APPS\n",
        "!mkdir -p APPS\n",
        "#Now we move to our directory called APPS and we download ROOT from the CERN server, this version is chosen because it runs on this machine - if you want to run this locally check the versions!\n",
        "!cd APPS && wget https://root.cern.ch/download/root_v6.13.08.Linux-ubuntu18-x86_64-gcc7.3.tar.gz \n",
        "#Now we extract our downloaded file:\n",
        "!cd APPS && tar -xf root_v6.13.08.Linux-ubuntu18-x86_64-gcc7.3.tar.gz\n"
      ],
      "execution_count": 1,
      "outputs": [
        {
          "output_type": "stream",
          "text": [
            "--2021-03-01 21:02:48--  https://root.cern.ch/download/root_v6.13.08.Linux-ubuntu18-x86_64-gcc7.3.tar.gz\n",
            "Resolving root.cern.ch (root.cern.ch)... 137.138.18.236, 2001:1458:201:ee::100:6\n",
            "Connecting to root.cern.ch (root.cern.ch)|137.138.18.236|:443... connected.\n",
            "HTTP request sent, awaiting response... 200 OK\n",
            "Length: 137415272 (131M) [application/x-gzip]\n",
            "Saving to: ‘root_v6.13.08.Linux-ubuntu18-x86_64-gcc7.3.tar.gz.1’\n",
            "\n",
            "root_v6.13.08.Linux 100%[===================>] 131.05M  19.9MB/s    in 7.6s    \n",
            "\n",
            "2021-03-01 21:02:57 (17.3 MB/s) - ‘root_v6.13.08.Linux-ubuntu18-x86_64-gcc7.3.tar.gz.1’ saved [137415272/137415272]\n",
            "\n"
          ],
          "name": "stdout"
        }
      ]
    },
    {
      "cell_type": "code",
      "metadata": {
        "id": "COPyXIvbxqht",
        "colab": {
          "base_uri": "https://localhost:8080/"
        },
        "outputId": "edeaf9f6-2bfb-4ead-c59f-eeef6e04cb88"
      },
      "source": [
        "\n",
        "#Colab only:\n",
        "#now we can extract some files from ROOT and ensure that we can access the libraries. We use some python key words to get access to the right files:\n",
        "\n",
        "import sys\n",
        "\n",
        "sys.path.append(\"/content/APPS/root/lib\")\n",
        "\n",
        "import ctypes\n",
        "\n",
        "\n",
        "ctypes.cdll.LoadLibrary('/content/APPS/root/lib/libCore.so')\n",
        "\n",
        "ctypes.cdll.LoadLibrary('/content/APPS/root/lib/libThread.so')\n",
        "\n",
        "ctypes.cdll.LoadLibrary('/content/APPS/root/lib/libImt.so')\n",
        "\n",
        "ctypes.cdll.LoadLibrary('/content/APPS/root/lib/libRIO.so')\n",
        "\n",
        "ctypes.cdll.LoadLibrary('/content/APPS/root/lib/libNet.so')\n",
        "\n",
        "ctypes.cdll.LoadLibrary('/content/APPS/root/lib/libTree.so')\n",
        "\n",
        "ctypes.cdll.LoadLibrary('/content/APPS/root/lib/libMathCore.so')\n",
        "\n",
        "ctypes.cdll.LoadLibrary('/content/APPS/root/lib/libMathMore.so')\n",
        "\n",
        "ctypes.cdll.LoadLibrary('/content/APPS/root/lib/libMatrix.so')\n",
        "\n",
        "ctypes.cdll.LoadLibrary('/content/APPS/root/lib/libHist.so')\n",
        "\n",
        "ctypes.cdll.LoadLibrary('/content/APPS/root/lib/libGraf.so')\n",
        "\n",
        "ctypes.cdll.LoadLibrary('/content/APPS/root/lib/libPyROOT.so')\n",
        "\n",
        "ctypes.cdll.LoadLibrary('/content/APPS/root/lib/libGpad.so')\n",
        "\n",
        "ctypes.cdll.LoadLibrary('/content/APPS/root/lib/libGraf3d.so')\n",
        "\n",
        "ctypes.cdll.LoadLibrary('/content/APPS/root/lib/libMultiProc.so')\n",
        "\n",
        "ctypes.cdll.LoadLibrary('/content/APPS/root/lib/libMinuit.so')\n",
        "\n",
        "ctypes.cdll.LoadLibrary('/content/APPS/root/lib/libFoam.so')"
      ],
      "execution_count": 2,
      "outputs": [
        {
          "output_type": "execute_result",
          "data": {
            "text/plain": [
              "<CDLL '/content/APPS/root/lib/libFoam.so', handle 5621d4d48300 at 7f904918d650>"
            ]
          },
          "metadata": {
            "tags": []
          },
          "execution_count": 2
        }
      ]
    },
    {
      "cell_type": "code",
      "metadata": {
        "id": "QTVz7NQMyDCb",
        "colab": {
          "base_uri": "https://localhost:8080/",
          "height": 606
        },
        "outputId": "dcce7ccd-f8ec-4c1b-87b2-8497b3a97ea0"
      },
      "source": [
        "#Now we can check if we have everything working as we expect: \n",
        "#Import brings the ROOT framework into our python environment.\n",
        "import ROOT\n",
        "#We define a 1 dimensional histogram, with 100 bins which ranges from -4 to +4\n",
        "h = ROOT.TH1F(\"gauss\",\"Example histogram\",100,-4,4)\n",
        "#Fill the histogram with gaussian (random) distribution\n",
        "h.FillRandom(\"gaus\")\n",
        "#make a Canvas (i.e. a drawing)\n",
        "c = ROOT.TCanvas(\"myCanvasName\",\"The Canvas Title\",800,600)\n",
        "#Draw my histogram\n",
        "h.Draw()\n",
        "#Show me the canvas\n",
        "c.Draw()"
      ],
      "execution_count": 3,
      "outputs": [
        {
          "output_type": "stream",
          "text": [
            "Welcome to JupyROOT 6.13/08\n"
          ],
          "name": "stdout"
        },
        {
          "output_type": "display_data",
          "data": {
            "image/png": "[encoded data removed]",
            "text/plain": [
              "<IPython.core.display.Image object>"
            ]
          },
          "metadata": {
            "tags": []
          }
        }
      ]
    },
    {
      "cell_type": "markdown",
      "metadata": {
        "id": "VXW1M6XB0tXP"
      },
      "source": [
        "All being well - this should give no errors and we should have some kind of Gaussian distribution above.\n",
        "\n",
        "The next step is to get our data file - you can find it on Canvas here: https://maastrichtuniversity.instructure.com/courses/5826/files/553829?module_item_id=115201\n",
        "\n",
        "Then upload it either directly or to your Google Drive and then mount this to your Colab environment"
      ]
    },
    {
      "cell_type": "code",
      "metadata": {
        "colab": {
          "base_uri": "https://localhost:8080/"
        },
        "id": "6uvb3oPCHgNG",
        "outputId": "c6a436a5-c116-46a7-b691-f6ada953da54"
      },
      "source": [
        "from google.colab import drive\n",
        "drive.mount('/content/drive')"
      ],
      "execution_count": 4,
      "outputs": [
        {
          "output_type": "stream",
          "text": [
            "Drive already mounted at /content/drive; to attempt to forcibly remount, call drive.mount(\"/content/drive\", force_remount=True).\n"
          ],
          "name": "stdout"
        }
      ]
    },
    {
      "cell_type": "code",
      "metadata": {
        "id": "Co476pbmBvBB",
        "colab": {
          "base_uri": "https://localhost:8080/",
          "height": 642
        },
        "outputId": "bb15af9b-5433-4bcd-fdef-ffcc42c099fb"
      },
      "source": [
        "#Since we need to use ROOT, we must first import this into Python:\n",
        "import ROOT\n",
        "#Then we open the ROOT file using the TFile command. - note you need to make this file path correct for your own setup!\n",
        "f = ROOT.TFile.Open(\"/content/drive/MyDrive/B2HHH_MagnetUp.root\", \"READONLY\")\n",
        "#From our file, we have to extract the DecayTree \n",
        "tree=f.Get(\"data\")\n",
        "#Now we can grab some variables as a test:\n",
        "ymomentum = ROOT.RooRealVar(\"H1_PY\",\"H1 Y Momentum\",-3000,3000,\"MeV/c\")\n",
        "xmomentum = ROOT.RooRealVar(\"H1_PX\",\"H1 X Momentum\",-3000,3000,\"MeV/c\")\n",
        "zmomentum = ROOT.RooRealVar(\"H1_PZ\",\"H1 Z Momentum\",-3000,3000,\"MeV/c\")\n",
        "# We then create a dataset for us to play with\n",
        "data = ROOT.RooDataSet(\"data\",\"data set\", tree, ROOT.RooArgSet(xmomentum,ymomentum,zmomentum), \"1==1\")\n",
        "# Now we create a canvas, plot our data onto the canvas and draw it:\n",
        "c = ROOT.TCanvas(\"c\",\"c\")\n",
        "frame = xmomentum.frame()\n",
        "data.plotOn(frame)\n",
        "frame.Draw()\n",
        "c.Draw()"
      ],
      "execution_count": 5,
      "outputs": [
        {
          "output_type": "stream",
          "text": [
            "\n",
            "\u001b[1mRooFit v3.60 -- Developed by Wouter Verkerke and David Kirkby\u001b[0m \n",
            "                Copyright (C) 2000-2013 NIKHEF, University of California & Stanford University\n",
            "                All rights reserved, please read http://roofit.sourceforge.net/license.txt\n",
            "\n",
            "[#1] INFO:Eval -- RooAbsReal::attachToTree(H1_PX) TTree Float_t branch H1_PX will be converted to double precision\n",
            "[#1] INFO:Eval -- RooAbsReal::attachToTree(H1_PY) TTree Float_t branch H1_PY will be converted to double precision\n",
            "[#1] INFO:Eval -- RooAbsReal::attachToTree(H1_PZ) TTree Float_t branch H1_PZ will be converted to double precision\n",
            "[#1] INFO:Eval -- RooTreeDataStore::loadValues(data) Ignored 3305139 out of range events\n"
          ],
          "name": "stdout"
        },
        {
          "output_type": "display_data",
          "data": {
            "image/png": "[encoded data removed]",
            "text/plain": [
              "<IPython.core.display.Image object>"
            ]
          },
          "metadata": {
            "tags": []
          }
        }
      ]
    },
    {
      "cell_type": "markdown",
      "metadata": {
        "id": "4e4n4iS3IJZi"
      },
      "source": [
        "#Why are we here?\n",
        "\n",
        "This week is about finding out something about one of the fundemental questions in physics. Why do we have \"stuff\".\n",
        "\n",
        "According to many of our models, and according to many measurements in particle physics, matter and anti-matter appear to be produced in equal quantities.\n",
        "\n",
        "However, when one looks at the Universe in general, we have more matter than anti-matter left - so there need to be some processes where anti-matter and matter are not produced equally. You can find out more about the Matter/Anti-Matter Asymmetry [here](http://press.web.cern.ch/backgrounders/matterantimatter-asymmetry)\n",
        "\n",
        "One place we look for this asymetry is in [charge-partity (CP) violation](https://www.symmetrymagazine.org/article/october-2005/explain-it-in-60-seconds) in particle physics processes. This essentially says that the processes that happen in the anti-particle version of a decay do not **exactly** match to the processes that happen in the particle version of the decay.\n",
        "\n",
        "\n",
        "\n",
        "---\n",
        "\n",
        "\n",
        "\n",
        "At LHCb, we produce both particle of the  B<sup>+</sup> meson and it's antiparticle the B<sup>-</sup> meson.\n",
        "\n",
        "We cannot detect these mesons directly. They decay into other things before we have a chance to measure them properly. So we collect data on the decay products, often called daughter particles. There are 524 [documented](http://pdg.lbl.gov/2014/listings/rpp2014-list-B-plus-minus.pdf) ways that the B<sup>+/-</sup> decays into various combinations. In order to simplify the process, we choose decay combinations that are convenient or have particular properties.\n",
        "\n",
        "In this analysis, we will take the process:-\n",
        "\n",
        "B<sup>+</sup>->K<sup>+</sup> + K<sup>+</sup>  + K<sup>-</sup>\n",
        "\n",
        "or\n",
        "\n",
        "B<sup>-</sup>->K<sup>-</sup> + K<sup>-</sup>  + K<sup>+</sup>\n",
        "\n",
        "\n",
        "To do so, we are given the following data for each event in our system:-\n",
        "\n",
        "![alt text](https://raw.githubusercontent.com/lhcb/opendata-project/80d64a3796e593fc8f9b257e85f32ae2e54f131f/Images/Variables.png)\n",
        "\n",
        "Here, H1 is the detected daughter particle (so a Kaon or a Pion), **not** the B-meson - the mother particle. Normally we would have to do some reconstruction from the decay products (the Daughters) to the Mother to be able to make some conclusions.\n",
        "\n",
        "Let's get started with working with this data:"
      ]
    },
    {
      "cell_type": "markdown",
      "metadata": {
        "id": "LOhfj7kfP-ao"
      },
      "source": [
        "For our analysis, the momentum of each of the daughter particles is split into the three cartesian components. We have combined these into a variable called H1_Ptot"
      ]
    },
    {
      "cell_type": "code",
      "metadata": {
        "id": "Y4keyoyTPjsK",
        "colab": {
          "base_uri": "https://localhost:8080/",
          "height": 589
        },
        "outputId": "2bd9ccf5-b541-4c04-a1e5-1d4e4afc4d12"
      },
      "source": [
        "#Here make a plot of the Total momentum of each of the three daughters\r\n",
        "\r\n",
        "#Create the TCanvas\r\n",
        "c = ROOT.TCanvas(\"XXX\", \"X\",800,600)\r\n",
        "\r\n",
        "#extract the total P for all daughter particles\r\n",
        "tree.Draw(\"H1_Ptot\"+\">>h1(1000,0,300000)\")\r\n",
        "tree.Draw(\"H2_Ptot\"+\">>h2(1000,0,300000)\")\r\n",
        "tree.Draw(\"H3_Ptot\"+\">>h3(1000,0,300000)\")\r\n",
        "\r\n",
        "#Create the histograms from the directories \r\n",
        "histogram2 = ROOT.gDirectory.Get(\"h1\")\r\n",
        "histogram = ROOT.gDirectory.Get(\"h2\")\r\n",
        "histogram3 = ROOT.gDirectory.Get(\"h3\")\r\n",
        "\r\n",
        "#Sets different colours for the histograms\r\n",
        "histogram2.SetLineColor(4)\r\n",
        "histogram.SetLineColor(3)\r\n",
        "histogram3.SetLineColor(47)\r\n",
        "\r\n",
        "#Prints all histograms and the Canvas \r\n",
        "histogram.Draw()\r\n",
        "histogram2.Draw('same')\r\n",
        "histogram3.Draw('same')\r\n",
        "c.Draw()\r\n",
        "\r\n",
        "\r\n",
        "#Create legend \r\n",
        "leg = ROOT.TLegend(0.15,0.95,.3,.8)\r\n",
        "leg.SetBorderSize(1)\r\n",
        "leg.SetFillColor(0)\r\n",
        "leg.SetFillStyle(0)\r\n",
        "leg.SetTextFont(42)\r\n",
        "leg.SetTextSize(0.035)\r\n",
        "leg.AddEntry(histogram,\"\",\"L\")\r\n",
        "leg.AddEntry(histogram2,\"\",\"L\")\r\n",
        "leg.AddEntry(histogram3,\"\",\"L\")\r\n",
        "leg.Draw()"
      ],
      "execution_count": 6,
      "outputs": [
        {
          "output_type": "display_data",
          "data": {
            "image/png": "[encoded data removed]",
            "text/plain": [
              "<IPython.core.display.Image object>"
            ]
          },
          "metadata": {
            "tags": []
          }
        }
      ]
    },
    {
      "cell_type": "markdown",
      "metadata": {
        "id": "C1lXLMCoR1Gi"
      },
      "source": [
        "Now plot the total momentum for the mother (M_Ptot)"
      ]
    },
    {
      "cell_type": "code",
      "metadata": {
        "id": "6kdbiNpPR1QG",
        "colab": {
          "base_uri": "https://localhost:8080/",
          "height": 606
        },
        "outputId": "620f12b3-3365-41c8-f70d-0545c1f0ba93"
      },
      "source": [
        "#use the histogram plotting tools, plot the momentum of the mother\r\n",
        "\r\n",
        "#Same procedure like in the last cell tho instead of H1_Ptot we extract M_Ptot\r\n",
        "c = ROOT.TCanvas(\"XXX\", \"X\",800,600)\r\n",
        "\r\n",
        "tree.Draw(\"M_Ptot\"+\">>Mp(1000,0,300000)\")\r\n",
        "\r\n",
        "histogram = ROOT.gDirectory.Get(\"Mp\")\r\n",
        "\r\n",
        "histogram.Draw()\r\n",
        "c.Draw()"
      ],
      "execution_count": 7,
      "outputs": [
        {
          "output_type": "stream",
          "text": [
            "Warning in <TCanvas::Constructor>: Deleting canvas with same name: XXX\n"
          ],
          "name": "stderr"
        },
        {
          "output_type": "display_data",
          "data": {
            "image/png": "[encoded data removed]",
            "text/plain": [
              "<IPython.core.display.Image object>"
            ]
          },
          "metadata": {
            "tags": []
          }
        }
      ]
    },
    {
      "cell_type": "markdown",
      "metadata": {
        "id": "Gj5qv5kqSMIF"
      },
      "source": [
        "Let's take a look at the whole data file that is available to us by looking at one specific entry - number 45"
      ]
    },
    {
      "cell_type": "code",
      "metadata": {
        "id": "QMkih_6SSG8I",
        "colab": {
          "base_uri": "https://localhost:8080/"
        },
        "outputId": "150d6dfe-ac65-414e-9d92-87a2db28ff3d"
      },
      "source": [
        "#This was very useful for it showed all the leafs that each branch has \r\n",
        "tree.Show(45)"
      ],
      "execution_count": 8,
      "outputs": [
        {
          "output_type": "stream",
          "text": [
            "======> EVENT:45\n",
            " B_FlightDistance = 4.71407\n",
            " B_VertexChi2    = 11.5278\n",
            " H1_PX           = 133.376\n",
            " H1_PY           = -1293.52\n",
            " H1_PZ           = 33534.2\n",
            " H1_ProbK        = 0.00735235\n",
            " H1_ProbPi       = 0.204907\n",
            " H1_Charge       = 1\n",
            " H1_IPChi2       = 22.9885\n",
            " H1_isMuon       = 0\n",
            " H2_PX           = 518.943\n",
            " H2_PY           = -1966.2\n",
            " H2_PZ           = 52184.7\n",
            " H2_ProbK        = 0.00482044\n",
            " H2_ProbPi       = 0.266655\n",
            " H2_Charge       = -1\n",
            " H2_IPChi2       = 20.5652\n",
            " H2_isMuon       = 0\n",
            " H3_PX           = 1383.62\n",
            " H3_PY           = -2008.35\n",
            " H3_PZ           = 12154\n",
            " H3_ProbK        = 0.0800247\n",
            " H3_ProbPi       = 0.403711\n",
            " H3_Charge       = -1\n",
            " H3_IPChi2       = 1584.95\n",
            " H3_isMuon       = 0\n",
            " H1_Ptot         = 33559.4\n",
            " H1_type         = 1\n",
            " H1_E            = 33559.7\n",
            " H2_Ptot         = 52224.4\n",
            " H2_type         = 1\n",
            " H2_E            = 52224.5\n",
            " H3_Ptot         = 12396.2\n",
            " H3_type         = 1\n",
            " H3_E            = 12397\n",
            " M_Ptot          = 98035.7\n",
            " M_E             = 98181.3\n",
            " M_m0            = 5343.69\n"
          ],
          "name": "stdout"
        }
      ]
    },
    {
      "cell_type": "markdown",
      "metadata": {
        "id": "w3sqwtNTUEJd"
      },
      "source": [
        "We have now completed the initial steps and begun to work through what we need to with the data. This is a perfect moment to take a coffee!"
      ]
    },
    {
      "cell_type": "markdown",
      "metadata": {
        "id": "6RhWWqt3a8_e"
      },
      "source": [
        "Having discovered all of the relevant information about our daughter particles, we need to combine the measurements about them into a single mother - which will be our B<sup>+</sup> or our B<sup>-</sup>\r\n",
        "\r\n",
        "Having found our momentum and energy, we can use these quantities to find our experimental mass (not the theoretical mass as we have used for the reconstruction).\r\n",
        "\r\n",
        "When we calculate this, we will get a distribution of masses. This is due to errors in the measurements made either by the detector, or in the experiment itself. We hope to have a reasonably narrow peak to work with, but, sometimes this is not possible.\r\n",
        "\r\n",
        "Additionally there will be other particles in the detector - which means our daughters might have come from two or even three different processes. Events which don't come from the same process will give a higher or lower mass than we are looking for. This is typically called the *background* while events which come from our event of interest are called the *signal*"
      ]
    },
    {
      "cell_type": "code",
      "metadata": {
        "id": "onr7-8CMbbFf",
        "colab": {
          "base_uri": "https://localhost:8080/",
          "height": 606
        },
        "outputId": "538116ce-0a18-4799-b725-941fbe13dc64"
      },
      "source": [
        "#Now plot a histogram of the range of masses of the B meson.\r\n",
        "#Does this match what we would expect from theory?\r\n",
        "\r\n",
        "#Same procedure as before \r\n",
        "c = ROOT.TCanvas(\"XXX\", \"X\",800,600)\r\n",
        "\r\n",
        "tree.Draw(\"M_m0\"+\">>M_m(1000,-1000,8000)\")\r\n",
        "\r\n",
        "histogram = ROOT.gDirectory.Get(\"M_m\")\r\n",
        "\r\n",
        "histogram.Draw()\r\n",
        "c.Draw()\r\n",
        "\r\n",
        "# The distribution spikes at the theoretical value for the mass, however, the first \r\n",
        "# spike indicates that still alot of noise (in the form of other particles) is present"
      ],
      "execution_count": 9,
      "outputs": [
        {
          "output_type": "stream",
          "text": [
            "Warning in <TCanvas::Constructor>: Deleting canvas with same name: XXX\n"
          ],
          "name": "stderr"
        },
        {
          "output_type": "display_data",
          "data": {
            "image/png": "[encoded data removed]",
            "text/plain": [
              "<IPython.core.display.Image object>"
            ]
          },
          "metadata": {
            "tags": []
          }
        }
      ]
    },
    {
      "cell_type": "markdown",
      "metadata": {
        "id": "MWGFKFnXb0RP"
      },
      "source": [
        "We know that some of our particles are the B+ and some are the B- particle. There will also be some particles in our system that are not coming from a genuine B+/- or are a B+/- but are not constructed from Kaons.\r\n",
        "\r\n",
        "We have some tools available to help:-\r\n",
        "\r\n",
        "  *  During detection, software attributes the probability of a particle being a Kaon or a Pion (in the H1_ProbK or H1_ProbPi variable)\r\n",
        "  * The detector also knows if the particle was a Muon - since it has detectors specifically for these. So it can attribute a 0 or a 1 to this probability\r\n",
        "  * The reconstructed vertex has a some kind of quality associated with it (we call this the Vertex χ2 (this is the variable B_VertexChi2). This is the statistical measure that determines how well we found a single point to be the source of all three particles.\r\n",
        "\r\n"
      ]
    },
    {
      "cell_type": "markdown",
      "metadata": {
        "id": "fEpnSmH4b9HZ"
      },
      "source": [
        "In order to get a better result, we should select our data to have the properties we desire and make some rules (often called a selection) to cut away data we don't want to include for various reasons. e.g. we know we don't have any muons in our decay - so any time H1/H2/H3 are a muon they should be excluded. The other variables are not so clear - so we can plot them to make a decision."
      ]
    },
    {
      "cell_type": "code",
      "metadata": {
        "colab": {
          "base_uri": "https://localhost:8080/",
          "height": 606
        },
        "id": "bV6MMF9wIYsT",
        "outputId": "72a94e60-bb65-427b-dcc1-425955246a5b"
      },
      "source": [
        "#same procedure as before using the K probability \r\n",
        "c = ROOT.TCanvas(\"XXX\", \"X\",800,600)\r\n",
        "\r\n",
        "tree.Draw(\"H1_ProbK\"+\">>h1(500,0,1)\")\r\n",
        "tree.Draw(\"H2_ProbK\"+\">>h2(500,0,1)\")\r\n",
        "tree.Draw(\"H3_ProbK\"+\">>h3(500,0,1)\")\r\n",
        "\r\n",
        "histogram = ROOT.gDirectory.Get(\"h1\")\r\n",
        "histogram2 = ROOT.gDirectory.Get(\"h2\")\r\n",
        "histogram3 = ROOT.gDirectory.Get(\"h3\")\r\n",
        "\r\n",
        "histogram.SetLineColor(4)\r\n",
        "histogram2.SetLineColor(3)\r\n",
        "histogram3.SetLineColor(47)\r\n",
        "\r\n",
        "histogram.Draw()\r\n",
        "histogram2.Draw('same')\r\n",
        "histogram3.Draw('same')\r\n",
        "c.Draw()\r\n",
        "\r\n",
        "leg = ROOT.TLegend(0.15,0.95,.3,.8)\r\n",
        "leg.SetBorderSize(1)\r\n",
        "leg.SetFillColor(0)\r\n",
        "leg.SetFillStyle(0)\r\n",
        "leg.SetTextFont(42)\r\n",
        "leg.SetTextSize(0.035)\r\n",
        "leg.AddEntry(histogram,\"\",\"L\")\r\n",
        "leg.AddEntry(histogram2,\"\",\"L\")\r\n",
        "leg.AddEntry(histogram3,\"\",\"L\")\r\n",
        "leg.Draw()"
      ],
      "execution_count": 10,
      "outputs": [
        {
          "output_type": "stream",
          "text": [
            "Warning in <TCanvas::Constructor>: Deleting canvas with same name: XXX\n"
          ],
          "name": "stderr"
        },
        {
          "output_type": "display_data",
          "data": {
            "image/png": "[encoded data removed]",
            "text/plain": [
              "<IPython.core.display.Image object>"
            ]
          },
          "metadata": {
            "tags": []
          }
        }
      ]
    },
    {
      "cell_type": "code",
      "metadata": {
        "colab": {
          "base_uri": "https://localhost:8080/",
          "height": 606
        },
        "id": "CS9EZNfyI79j",
        "outputId": "e55d35cb-ea01-4cdc-9d9c-6cac83dd334a"
      },
      "source": [
        "# Same as before with the Pi probability\r\n",
        "c = ROOT.TCanvas(\"XXX\", \"X\",800,600)\r\n",
        "\r\n",
        "tree.Draw(\"H1_ProbPi\"+\">>h1(1000,0,1)\")\r\n",
        "tree.Draw(\"H2_ProbPi\"+\">>h2(1000,0,1)\")\r\n",
        "tree.Draw(\"H3_ProbPi\"+\">>h3(1000,0,1)\")\r\n",
        "\r\n",
        "histogram = ROOT.gDirectory.Get(\"h1\")\r\n",
        "histogram2 = ROOT.gDirectory.Get(\"h2\")\r\n",
        "histogram3 = ROOT.gDirectory.Get(\"h3\")\r\n",
        "\r\n",
        "histogram.SetLineColor(4)\r\n",
        "histogram2.SetLineColor(3)\r\n",
        "histogram3.SetLineColor(47)\r\n",
        "\r\n",
        "histogram.Draw()\r\n",
        "histogram2.Draw('same')\r\n",
        "histogram3.Draw('same')\r\n",
        "c.Draw()\r\n",
        "\r\n",
        "leg = ROOT.TLegend(0.15,0.95,.3,.8)\r\n",
        "leg.SetBorderSize(1)\r\n",
        "leg.SetFillColor(0)\r\n",
        "leg.SetFillStyle(0)\r\n",
        "leg.SetTextFont(42)\r\n",
        "leg.SetTextSize(0.035)\r\n",
        "leg.AddEntry(histogram,\"\",\"L\")\r\n",
        "leg.AddEntry(histogram2,\"\",\"L\")\r\n",
        "leg.AddEntry(histogram3,\"\",\"L\")\r\n",
        "leg.Draw()"
      ],
      "execution_count": 11,
      "outputs": [
        {
          "output_type": "stream",
          "text": [
            "Warning in <TCanvas::Constructor>: Deleting canvas with same name: XXX\n"
          ],
          "name": "stderr"
        },
        {
          "output_type": "display_data",
          "data": {
            "image/png": "[encoded data removed]",
            "text/plain": [
              "<IPython.core.display.Image object>"
            ]
          },
          "metadata": {
            "tags": []
          }
        }
      ]
    },
    {
      "cell_type": "code",
      "metadata": {
        "colab": {
          "base_uri": "https://localhost:8080/",
          "height": 606
        },
        "id": "HxqUSDvgOdTD",
        "outputId": "0715d2db-a3d7-46a0-f31a-2ff0e6dc7583"
      },
      "source": [
        "#Plotting once more this time the B_VertexChi2 variable \r\n",
        "c = ROOT.TCanvas(\"XXX\", \"X\",800,600)\r\n",
        "\r\n",
        "tree.Draw(\"B_VertexChi2\"+\">>B_V(1000,0,12)\")\r\n",
        "\r\n",
        "histogram = ROOT.gDirectory.Get(\"B_V\")\r\n",
        "\r\n",
        "histogram.Draw()\r\n",
        "c.Draw()"
      ],
      "execution_count": 12,
      "outputs": [
        {
          "output_type": "stream",
          "text": [
            "Warning in <TCanvas::Constructor>: Deleting canvas with same name: XXX\n"
          ],
          "name": "stderr"
        },
        {
          "output_type": "display_data",
          "data": {
            "image/png": "[encoded data removed]",
            "text/plain": [
              "<IPython.core.display.Image object>"
            ]
          },
          "metadata": {
            "tags": []
          }
        }
      ]
    },
    {
      "cell_type": "code",
      "metadata": {
        "id": "k0vikJp0cAvv"
      },
      "source": [
        "#Make plots of H1/H2/H3 _ProbK on one plot\r\n",
        "#Make plots of H1/H2/H3 _ProbPi on one plot\r\n",
        "#For all our particles, make a plot of the B_VertexChi2"
      ],
      "execution_count": 13,
      "outputs": []
    },
    {
      "cell_type": "markdown",
      "metadata": {
        "id": "DWmxBkZ0cDx1"
      },
      "source": [
        "Using these plots, we can now make a preselection string. This is a text string that looks like "
      ]
    },
    {
      "cell_type": "code",
      "metadata": {
        "id": "U1IGKyZXcGJP"
      },
      "source": [
        "#This example is for each daughter particle to have a Probability of being a Pion being more than 90% and H1 to not be a muon\r\n",
        "#This is not a good choice of selection - you should make your own :)\r\n",
        "\r\n",
        "# We want to select for Kaons. I decided for a 0.75 boundry for it gives a bit more data without bringing in too much noise\r\n",
        "# additionally I select for non Muons which is not a necessity, however, we know that Kaons are not Muons so we just play around with \r\n",
        "# sensor inaccuracies \r\n",
        "selection=(\"H1_ProbK>0.75 & H2_ProbK>0.75 & H3_ProbK>0.75 & !H1_isMuon & !H2_isMuon & !H3_isMuon\")"
      ],
      "execution_count": 14,
      "outputs": []
    },
    {
      "cell_type": "code",
      "metadata": {
        "id": "MxD7JMeicMu0"
      },
      "source": [
        "#To apply the selection - we can use the copytree command:\r\n",
        "\r\n",
        "CutTree=tree.CopyTree(selection)\r\n",
        "\r\n",
        "#So now we take our data in tree and apply selection to it (so only events which comply with those rules are kept) and put the new data in CutTree"
      ],
      "execution_count": 15,
      "outputs": []
    },
    {
      "cell_type": "code",
      "metadata": {
        "id": "hmmsoUwEcOir",
        "colab": {
          "base_uri": "https://localhost:8080/",
          "height": 606
        },
        "outputId": "23a9a597-52c0-4b17-e1f2-717ef650bbfd"
      },
      "source": [
        "#Now as a good check, we should see the effect of applying our cuts.\r\n",
        "#On one histogram, plot the B meson mass, from both the tree (pre-cuts) and the CutTree (post-cuts)\r\n",
        "#What do you notice about your histogram now?\r\n",
        "\r\n",
        "# The cutted histogram has a significant lower number of events (factor of 1000)\r\n",
        "c = ROOT.TCanvas(\"XXX\", \"X\",800,600)\r\n",
        "\r\n",
        "tree.Draw(\"M_m0\"+\">>Mm(1000,0,8000)\")\r\n",
        "CutTree.Draw(\"M_m0\"+\">>MmC(1000,0,8000)\")\r\n",
        "\r\n",
        "histogram = ROOT.gDirectory.Get(\"Mm\")\r\n",
        "histogram2 = ROOT.gDirectory.Get(\"MmC\")\r\n",
        "\r\n",
        "histogram2.SetLineColor(4)\r\n",
        "histogram.SetLineColor(3)\r\n",
        "\r\n",
        "histogram.Draw()\r\n",
        "histogram2.Draw('same')\r\n",
        "\r\n",
        "c.Draw()\r\n",
        "\r\n",
        "\r\n",
        "leg = ROOT.TLegend(0.15,0.95,.3,.8)\r\n",
        "leg.SetBorderSize(1)\r\n",
        "leg.SetFillColor(0)\r\n",
        "leg.SetFillStyle(0)\r\n",
        "leg.SetTextFont(42)\r\n",
        "leg.SetTextSize(0.035)\r\n",
        "leg.AddEntry(histogram,\"M_m0 from normal tree\",\"L\")\r\n",
        "leg.AddEntry(histogram2,\"M_m0 from CutTree\",\"L\")\r\n",
        "leg.Draw()"
      ],
      "execution_count": 16,
      "outputs": [
        {
          "output_type": "stream",
          "text": [
            "Warning in <TCanvas::Constructor>: Deleting canvas with same name: XXX\n"
          ],
          "name": "stderr"
        },
        {
          "output_type": "display_data",
          "data": {
            "image/png": "[encoded data removed]",
            "text/plain": [
              "<IPython.core.display.Image object>"
            ]
          },
          "metadata": {
            "tags": []
          }
        }
      ]
    },
    {
      "cell_type": "code",
      "metadata": {
        "colab": {
          "base_uri": "https://localhost:8080/",
          "height": 606
        },
        "id": "vZOVdH4-w9Id",
        "outputId": "5c3129cb-da20-488b-895e-ad620573aed9"
      },
      "source": [
        "c = ROOT.TCanvas(\"XXX\", \"X\",800,600)\r\n",
        "\r\n",
        "CutTree.Draw(\"M_m0\"+\">>MmC(1000,0,8000)\")\r\n",
        "histogram = ROOT.gDirectory.Get(\"MmC\")\r\n",
        "histogram.SetLineColor(4)\r\n",
        "histogram.Draw()\r\n",
        "\r\n",
        "c.Draw()\r\n",
        "\r\n",
        "#Inspecting it further, we see a very clear spice at the theoretical value for the K mass, \r\n",
        "#while the first spike has vanished. This indecates that we did a good job with our selection"
      ],
      "execution_count": 17,
      "outputs": [
        {
          "output_type": "stream",
          "text": [
            "Warning in <TCanvas::Constructor>: Deleting canvas with same name: XXX\n"
          ],
          "name": "stderr"
        },
        {
          "output_type": "display_data",
          "data": {
            "image/png": "[encoded data removed]",
            "text/plain": [
              "<IPython.core.display.Image object>"
            ]
          },
          "metadata": {
            "tags": []
          }
        }
      ]
    },
    {
      "cell_type": "markdown",
      "metadata": {
        "id": "N1tResqvcMgQ"
      },
      "source": [
        "#How do we count the number of events?\r\n",
        "\r\n",
        "We now have a histogram of events that we have reconstructed as a B meson. But some of these events are caused by a co-incidence of events which would still occur if there were no B mesons actually produced. We call this the background. Background and signal are indistinguishable now as the detector cannot tell the difference and our cuts were unable to remove the events for physics reasons. We can do some statistical analysis, if we know the approximate shapes of our signal and our background. Just like a least-squares fitting we can run a fit routine to minimise the error between the fitted curve and our data. As an example, if we know our data has an exponential background and a gaussian signal:\r\n",
        "\r\n",
        "![Gaussian+Exp Background](https://twiki.cern.ch/twiki/pub/RooStats/RooStatsTutorialsJune2013/GausExpModelFit.png)\r\n",
        "\r\n",
        "Here the red line represents our signal, the blue dotted line is our background and the solid blue line is our combined curve. The graph also shows the number of signal events and the number of background events. The signal now is a tiny fraction of the total data shown in the plot.\r\n",
        "\r\n",
        "In order to do this, we need to build a fit model, around which the software can try to fit our data.\r\n",
        "\r\n",
        "We use RooFit for this, which includes:\r\n",
        "* Gaussian\r\n",
        "* Exponential\r\n",
        "* Chebychev\r\n",
        "* Crystal Ball\r\n",
        "* Breit-Wigner\r\n",
        "\r\n",
        "As well as several other choices.\r\n",
        "\r\n",
        "Typically exponential and Chebychev functions are used for background and Gaussian, Crystal Ball and Breit-Wigner are used for signal. We can also combine them (e.g. 1 crystal ball, 1 gaussian, 1 exponential) in various ways."
      ]
    },
    {
      "cell_type": "code",
      "metadata": {
        "id": "R_7q_HY1qhiS"
      },
      "source": [
        "#define physical measurment that we want to fit using RooRealVar\r\n",
        "# var = ROOT.RooRealVar =(\"Variable from Python\", \"Nickname\",Min, Max, Units)\r\n",
        "mass = ROOT.RooRealVar(\"M_m0\",\"Mass\",5000,5600,\"MeV/C^{2}\")\r\n",
        "\r\n",
        "#passing the rest of the variables into the model\r\n",
        "#For the RooRealVar the last three parameters are given, \"starting value\" and min/max values\r\n",
        "gaussMean = ROOT.RooRealVar(\"Mean\",\"Mean\",5285,5000,5500)\r\n",
        "gaussWidth = ROOT.RooRealVar(\"Width\",\"Width\",20,0,50)\r\n",
        "\r\n",
        "#Now we have enough to make our Model for the signal:\r\n",
        "Gauss=ROOT.RooGaussian(\"Gaussian Signal\",\"Gauss\",mass,gaussMean,gaussWidth)\r\n",
        "Gauss_Norm= ROOT.RooRealVar(\"Gauss_Norm\",\"Signal Yield\", CutTree.GetEntries()/30, 0, tree.GetEntries() * 3)\r\n",
        "#We also need a background, so let's use a (simple) exponential:\r\n",
        "\r\n",
        "exponent=ROOT.RooRealVar(\"exponent\", \"C\", -0.02, -2, +2)\r\n",
        "exp_Norm= ROOT.RooRealVar(\"exp_Norm\",\"Background Yield\", CutTree.GetEntries()/30, 0, tree.GetEntries() * 2)\r\n",
        "\r\n",
        "#Define the  model for the background:\r\n",
        "\r\n",
        "Bkgnd=ROOT.RooExponential(\"Exponential Background\",\"Bkgnd\",mass,exponent)\r\n",
        "\r\n",
        "#Now we need to combine these two functions into a single PDF (probability density function)\r\n",
        "#and we need to add the normalisation factors at the end as scaling factors\r\n",
        "\r\n",
        "model=ROOT.RooAddPdf(\"Full Model\",\"model\",ROOT.RooArgList(Gauss,Bkgnd),ROOT.RooArgList(Gauss_Norm, exp_Norm) )"
      ],
      "execution_count": 18,
      "outputs": []
    },
    {
      "cell_type": "code",
      "metadata": {
        "id": "PL-qVvs-dw86",
        "colab": {
          "base_uri": "https://localhost:8080/"
        },
        "outputId": "378f9856-b290-4f03-e49d-bb6a5f2544c4"
      },
      "source": [
        "#Put our data set into a RooDataSet structure\r\n",
        "\r\n",
        "data_to_fit=ROOT.RooDataSet(\"Data Set\",\"data_to_fit\", CutTree, ROOT.RooArgSet(mass))\r\n",
        "\r\n",
        "#Then we can do the fitting:\r\n",
        "\r\n",
        "model.fitTo(data_to_fit)\r\n",
        "\r\n",
        "#if everything went well, you will see the outputs of RooFit below"
      ],
      "execution_count": 19,
      "outputs": [
        {
          "output_type": "execute_result",
          "data": {
            "text/plain": [
              "<ROOT.RooFitResult object at 0x(nil)>"
            ]
          },
          "metadata": {
            "tags": []
          },
          "execution_count": 19
        },
        {
          "output_type": "stream",
          "text": [
            "[#1] INFO:Eval -- RooAbsReal::attachToTree(M_m0) TTree Float_t branch M_m0 will be converted to double precision\n",
            "[#1] INFO:Eval -- RooTreeDataStore::loadValues(Data Set) Ignored 232 out of range events\n",
            "[#1] INFO:Minization -- p.d.f. provides expected number of events, including extended term in likelihood.\n",
            "[#1] INFO:Minization -- RooMinimizer::optimizeConst: activating const optimization\n",
            "[#1] INFO:Minization --  The following expressions will be evaluated in cache-and-track mode: (Gaussian Signal,Exponential Background)\n",
            " **********\n",
            " **    1 **SET PRINT           1\n",
            " **********\n",
            " **********\n",
            " **    2 **SET NOGRAD\n",
            " **********\n",
            " PARAMETER DEFINITIONS:\n",
            "    NO.   NAME         VALUE      STEP SIZE      LIMITS\n",
            "     1 Gauss_Norm   1.12000e+02  5.60000e+01    0.00000e+00  1.02606e+07\n",
            " MINUIT WARNING IN PARAM DEF\n",
            " ============== LIMITS ON PARAM1 TOO FAR APART.\n",
            " PARAMETER DEFINITIONS:\n",
            "    NO.   NAME         VALUE      STEP SIZE      LIMITS\n",
            "     2 Mean         5.28500e+03  5.00000e+01    5.00000e+03  5.50000e+03\n",
            "     3 Width        2.00000e+01  5.00000e+00    0.00000e+00  5.00000e+01\n",
            "     4 exp_Norm     1.12000e+02  5.60000e+01    0.00000e+00  6.84039e+06\n",
            "     5 exponent    -2.00000e-02  4.00000e-01   -2.00000e+00  2.00000e+00\n",
            " **********\n",
            " **    3 **SET ERR         0.5\n",
            " **********\n",
            " **********\n",
            " **    4 **SET PRINT           1\n",
            " **********\n",
            " **********\n",
            " **    5 **SET STR           1\n",
            " **********\n",
            " NOW USING STRATEGY  1: TRY TO BALANCE SPEED AGAINST RELIABILITY\n",
            " **********\n",
            " **    6 **MIGRAD        2500           1\n",
            " **********\n",
            " FIRST CALL TO USER FUNCTION AT NEW START POINT, WITH IFLAG=4.\n",
            " START MIGRAD MINIMIZATION.  STRATEGY  1.  CONVERGENCE WHEN EDM .LT. 1.00e-03\n",
            " FCN=-206.108 FROM MIGRAD    STATUS=INITIATE       40 CALLS          41 TOTAL\n",
            "                     EDM= unknown      STRATEGY= 1      NO ERROR MATRIX       \n",
            "  EXT PARAMETER               CURRENT GUESS       STEP         FIRST   \n",
            "  NO.   NAME      VALUE            ERROR          SIZE      DERIVATIVE \n",
            "   1  Gauss_Norm   1.12000e+02   5.60000e+01   0.00000e+00  -6.45095e+05\n",
            "   2  Mean         5.28500e+03   5.00000e+01   0.00000e+00   3.09679e+02\n",
            "   3  Width        2.00000e+01   5.00000e+00   0.00000e+00   7.33268e+02\n",
            "   4  exp_Norm     1.12000e+02   5.60000e+01   0.00000e+00  -1.96390e+05\n",
            "   5  exponent    -2.69161e-03   4.00000e-01   8.65436e-03  -6.86035e+02\n",
            "                               ERR DEF= 0.5\n",
            " MIGRAD MINIMIZATION HAS CONVERGED.\n",
            " FCN=-6045.84 FROM MIGRAD    STATUS=CONVERGED     150 CALLS         151 TOTAL\n",
            "                     EDM=2.45119e-07    STRATEGY= 1  ERROR MATRIX UNCERTAINTY   1.7 per cent\n",
            "  EXT PARAMETER                                   STEP         FIRST   \n",
            "  NO.   NAME      VALUE            ERROR          SIZE      DERIVATIVE \n",
            "   1  Gauss_Norm   2.43185e+03   5.07608e+01   4.68547e-06   1.15984e-01\n",
            "   2  Mean         5.28464e+03   3.82700e-01  -8.40912e-06  -3.46199e-02\n",
            "   3  Width        1.75973e+01   2.79544e-01  -3.52935e-06   3.75267e-02\n",
            "   4  exp_Norm     7.18153e+02   2.97686e+01  -2.46985e-06  -6.34537e-02\n",
            "   5  exponent    -3.29065e-03   2.11889e-04  -4.57500e-07   5.24230e+00\n",
            "                               ERR DEF= 0.5\n",
            " EXTERNAL ERROR MATRIX.    NDIM=  25    NPAR=  5    ERR DEF=0.5\n",
            "  2.577e+03 -8.013e-02  1.359e+00 -1.547e+02 -1.166e-03 \n",
            " -8.013e-02  1.465e-01  2.696e-03  1.251e-01 -8.938e-07 \n",
            "  1.359e+00  2.696e-03  7.815e-02 -1.485e+00 -6.525e-06 \n",
            " -1.547e+02  1.251e-01 -1.485e+00  8.862e+02  8.228e-04 \n",
            " -1.166e-03 -8.938e-07 -6.525e-06  8.228e-04  4.490e-08 \n",
            " PARAMETER  CORRELATION COEFFICIENTS  \n",
            "       NO.  GLOBAL      1      2      3      4      5\n",
            "        1  0.15707   1.000 -0.004  0.096 -0.102 -0.108\n",
            "        2  0.03199  -0.004  1.000  0.025  0.011 -0.011\n",
            "        3  0.21232   0.096  0.025  1.000 -0.178 -0.110\n",
            "        4  0.22392  -0.102  0.011 -0.178  1.000  0.130\n",
            "        5  0.18113  -0.108 -0.011 -0.110  0.130  1.000\n",
            " **********\n",
            " **    7 **SET ERR         0.5\n",
            " **********\n",
            " **********\n",
            " **    8 **SET PRINT           1\n",
            " **********\n",
            " **********\n",
            " **    9 **HESSE        2500\n",
            " **********\n",
            " COVARIANCE MATRIX CALCULATED SUCCESSFULLY\n",
            " FCN=-6045.84 FROM HESSE     STATUS=OK             37 CALLS         188 TOTAL\n",
            "                     EDM=6.07316e-07    STRATEGY= 1      ERROR MATRIX ACCURATE \n",
            "  EXT PARAMETER                                INTERNAL      INTERNAL  \n",
            "  NO.   NAME      VALUE            ERROR       STEP SIZE       VALUE   \n",
            "   1  Gauss_Norm   2.43185e+03   5.09323e+01   1.71405e-05  -1.54000e+00\n",
            "   2  Mean         5.28464e+03   3.84225e-01   8.32505e-05   1.39027e-01\n",
            "   3  Width        1.75973e+01   3.10349e-01   6.83384e-04  -3.00613e-01\n",
            "   4  exp_Norm     7.18153e+02   2.96720e+01   2.22337e-05  -1.55030e+00\n",
            "   5  exponent    -3.29065e-03   2.42804e-04   6.46772e-06  -1.64532e-03\n",
            "                               ERR DEF= 0.5\n",
            " EXTERNAL ERROR MATRIX.    NDIM=  25    NPAR=  5    ERR DEF=0.5\n",
            "  2.594e+03 -2.284e-01  1.581e+00 -1.622e+02 -6.694e-04 \n",
            " -2.284e-01  1.476e-01 -3.971e-03  2.284e-01 -1.769e-06 \n",
            "  1.581e+00 -3.971e-03  9.632e-02 -1.581e+00 -6.280e-06 \n",
            " -1.622e+02  2.284e-01 -1.581e+00  8.804e+02  6.698e-04 \n",
            " -6.694e-04 -1.769e-06 -6.280e-06  6.698e-04  5.895e-08 \n",
            " PARAMETER  CORRELATION COEFFICIENTS  \n",
            "       NO.  GLOBAL      1      2      3      4      5\n",
            "        1  0.14124   1.000 -0.012  0.100 -0.107 -0.054\n",
            "        2  0.04376  -0.012  1.000 -0.033  0.020 -0.019\n",
            "        3  0.20313   0.100 -0.033  1.000 -0.172 -0.083\n",
            "        4  0.20865  -0.107  0.020 -0.172  1.000  0.093\n",
            "        5  0.12396  -0.054 -0.019 -0.083  0.093  1.000\n",
            "[#1] INFO:Minization -- RooMinimizer::optimizeConst: deactivating const optimization\n"
          ],
          "name": "stdout"
        }
      ]
    },
    {
      "cell_type": "code",
      "metadata": {
        "id": "bUhgxlRGd4XO",
        "colab": {
          "base_uri": "https://localhost:8080/",
          "height": 557
        },
        "outputId": "477e2d0e-2136-47fc-f919-4425c7c5282d"
      },
      "source": [
        "#Now to plot it all\r\n",
        "\r\n",
        "# After I played around with some other functions I came back to the classic Gaussian \r\n",
        "# and exponential noise case. \r\n",
        "c1=ROOT.TCanvas(\"c1\",\"c1\")\r\n",
        "frame=mass.frame()\r\n",
        "data_to_fit.plotOn(frame)\r\n",
        "model.plotOn(frame, ROOT.RooFit.Components(\"Gaussian Signal\"),ROOT.RooFit.LineColor(8),ROOT.RooFit.LineStyle(2))\r\n",
        "model.plotOn(frame, ROOT.RooFit.Components(\"Exponential Background\"),ROOT.RooFit.LineColor(46),ROOT.RooFit.LineStyle(2))\r\n",
        "model.plotOn(frame)\r\n",
        "frame.Draw()\r\n",
        "\r\n",
        "c1.Update()\r\n",
        "c1.Draw()"
      ],
      "execution_count": 20,
      "outputs": [
        {
          "output_type": "stream",
          "text": [
            "[#1] INFO:Plotting -- RooAbsPdf::plotOn(Full Model) directly selected PDF components: (Gaussian Signal)\n",
            "[#1] INFO:Plotting -- RooAbsPdf::plotOn(Full Model) indirectly selected PDF components: ()\n",
            "[#1] INFO:Plotting -- RooAbsPdf::plotOn(Full Model) directly selected PDF components: (Exponential Background)\n",
            "[#1] INFO:Plotting -- RooAbsPdf::plotOn(Full Model) indirectly selected PDF components: ()\n"
          ],
          "name": "stdout"
        },
        {
          "output_type": "display_data",
          "data": {
            "image/png": "[encoded data removed]",
            "text/plain": [
              "<IPython.core.display.Image object>"
            ]
          },
          "metadata": {
            "tags": []
          }
        }
      ]
    },
    {
      "cell_type": "markdown",
      "metadata": {
        "id": "60b4bs1od4M_"
      },
      "source": [
        "Using this structure, you can in theory build whatever models you like!\r\n",
        "\r\n",
        "Some recommendations (but not necessary to do all):-\r\n",
        "\r\n",
        "\r\n",
        "\r\n",
        "*   Gauss+Exponential (as above)\r\n",
        "*   Crystal Ball + Exponential\r\n",
        "*   Gauss+Crystal Ball+Exponential (now you need to weigh the two signal peaks and then the total signal against total background)\r\n",
        "*   Gauss+Chebychev\r\n",
        "*   Two Crystal Balls + Exponential"
      ]
    },
    {
      "cell_type": "markdown",
      "metadata": {
        "id": "vHivSaH1dwy7"
      },
      "source": [
        "So how good was the fit, and how many events do you have?\r\n",
        "\r\n",
        "We can use the .getValV() function on our signal and background *normalisation* components, e.g. Gauss_Norm=Gauss.getValV()\r\n",
        "\r\n",
        "To find the error (on this number) we can use .getError()\r\n",
        "\r\n",
        "Neither of these measures would tell us if this was a good fit or not. Normally we use a χ2 test to do so - this is built into the image we made (so we can do frame.chiSquare() to get this data)\r\n",
        "\r\n",
        "For each model you made, print the signal and background yields (with errors) and report the χ2"
      ]
    },
    {
      "cell_type": "code",
      "metadata": {
        "colab": {
          "base_uri": "https://localhost:8080/"
        },
        "id": "kQOOi1xWIG2I",
        "outputId": "c4457acb-f5cc-49d0-b695-300a53389af1"
      },
      "source": [
        "#printing the required values \r\n",
        "#Looking at the Error to ValV ratio indicates that these values seem rather good\r\n",
        "print(Gauss_Norm.getValV())\r\n",
        "print(Gauss_Norm.getError())\r\n",
        "print(frame.chiSquare())"
      ],
      "execution_count": 21,
      "outputs": [
        {
          "output_type": "stream",
          "text": [
            "2431.84888979\n",
            "50.932344411\n",
            "1.35252502352\n"
          ],
          "name": "stdout"
        }
      ]
    },
    {
      "cell_type": "markdown",
      "metadata": {
        "id": "ob2HARgWoTGe"
      },
      "source": [
        "#Counting\r\n",
        "\r\n",
        "So we have now loaded our data; we have reconstructed information about the mother B meson and we have cut away any data which looks like it might not be what we are looking for. We have then plotted histograms of the mass of the B meson and used this to fit a model, a function to describe the events there. We now have to identify which of our events belong to the B<sup>+</sup> and how many of them belong to B<sup>-</sup>.\r\n",
        "\r\n",
        "To do this, should split out data into two groups (and throw away data which doesn't comply with either decay)\r\n",
        "\r\n",
        "We will be looking for the events which are\r\n",
        "\r\n",
        "\r\n",
        "B<sup>+</sup>->K<sup>+</sup> + K<sup>+</sup>  + K<sup>-</sup>\r\n",
        "\r\n",
        "or\r\n",
        "\r\n",
        "B<sup>-</sup>->K<sup>-</sup> + K<sup>-</sup>  + K<sup>+</sup>\r\n",
        "\r\n",
        "We can look for the number of positive and negative charges in H1, H2 and H3 (using the variable ```H1_Charge``` etc.). If we have 0 or 3 positive charges, we should throw the event away and if we have 1 it should be assigned be a B<sup>-</sup>, with 2 it should be a B<sup>+</sup>"
      ]
    },
    {
      "cell_type": "code",
      "metadata": {
        "colab": {
          "base_uri": "https://localhost:8080/",
          "height": 606
        },
        "id": "PE0hYC4L5PWU",
        "outputId": "928b3d31-4d6a-42ca-dc31-e69a5fcee06d"
      },
      "source": [
        "#Now we select for B+ and B- by adding up the Charge and looking at the value\r\n",
        "selectionBM = (\"(H1_Charge + H2_Charge + H3_Charge) == 1\")\r\n",
        "selectionBP = (\"(H1_Charge + H2_Charge + H3_Charge) == -1\")\r\n",
        "\r\n",
        "#Cutting the Trees\r\n",
        "TreeBM=CutTree.CopyTree(selectionBM)\r\n",
        "TreeBP=CutTree.CopyTree(selectionBP)\r\n",
        "\r\n",
        "#And plotting\r\n",
        "c = ROOT.TCanvas(\"XXX\", \"X\",800,600)\r\n",
        "\r\n",
        "TreeBM.Draw(\"M_m0\"+\">>MmBM(300,4500,6500)\")\r\n",
        "TreeBP.Draw(\"M_m0\"+\">>MmBP(300,4500,6500)\")\r\n",
        "\r\n",
        "histogram = ROOT.gDirectory.Get(\"MmBM\")\r\n",
        "histogram2 = ROOT.gDirectory.Get(\"MmBP\")\r\n",
        "\r\n",
        "histogram2.SetLineColor(4)\r\n",
        "histogram.SetLineColor(3)\r\n",
        "\r\n",
        "histogram.Draw()\r\n",
        "histogram2.Draw('same')\r\n",
        "\r\n",
        "c.Draw()\r\n",
        "\r\n",
        "\r\n",
        "leg = ROOT.TLegend(0.15,0.95,.3,.8)\r\n",
        "leg.SetBorderSize(1)\r\n",
        "leg.SetFillColor(0)\r\n",
        "leg.SetFillStyle(0)\r\n",
        "leg.SetTextFont(42)\r\n",
        "leg.SetTextSize(0.035)\r\n",
        "leg.AddEntry(histogram,\"M_m0 for the B- tree\",\"L\")\r\n",
        "leg.AddEntry(histogram2,\"M_m0 for the B+ tree\",\"L\")\r\n",
        "leg.Draw()\r\n",
        "\r\n",
        "#The plot shows two rather simular graphs for the two Cuts "
      ],
      "execution_count": 22,
      "outputs": [
        {
          "output_type": "stream",
          "text": [
            "Warning in <TCanvas::Constructor>: Deleting canvas with same name: XXX\n"
          ],
          "name": "stderr"
        },
        {
          "output_type": "display_data",
          "data": {
            "image/png": "[encoded data removed]",
            "text/plain": [
              "<IPython.core.display.Image object>"
            ]
          },
          "metadata": {
            "tags": []
          }
        }
      ]
    },
    {
      "cell_type": "code",
      "metadata": {
        "id": "x3fDlfUsLn94"
      },
      "source": [
        "#In the next lines I repeat what we did in the \"How do we count the number of events\" part\r\n",
        "#for the new cutted trees\r\n",
        "\r\n",
        "mass = ROOT.RooRealVar(\"M_m0\",\"Mass\",5000,5600,\"MeV/C^{2}\")\r\n",
        "\r\n",
        "gaussMean = ROOT.RooRealVar(\"Mean\",\"Mean\",5285,5000,5500)\r\n",
        "gaussWidth = ROOT.RooRealVar(\"Width\",\"Width\",20,0,50)\r\n",
        "\r\n",
        "Gauss=ROOT.RooGaussian(\"Gaussian Signal\",\"Gauss\",mass,gaussMean,gaussWidth)\r\n",
        "Gauss_Norm_BM= ROOT.RooRealVar(\"Gauss_Norm\",\"Signal Yield\", TreeBM.GetEntries()/30, 0, TreeBM.GetEntries() * 3)\r\n",
        "Gauss_Norm_BP= ROOT.RooRealVar(\"Gauss_Norm\",\"Signal Yield\", TreeBP.GetEntries()/30, 0, TreeBP.GetEntries() * 3)\r\n",
        "\r\n",
        "exponent=ROOT.RooRealVar(\"exponent\", \"C\", -0.02, -2, +2)\r\n",
        "exp_Norm_BM= ROOT.RooRealVar(\"exp_Norm\",\"Background Yield\", TreeBM.GetEntries()/30, 0, TreeBM.GetEntries() * 2)\r\n",
        "exp_Norm_BP= ROOT.RooRealVar(\"exp_Norm\",\"Background Yield\", TreeBP.GetEntries()/30, 0, TreeBP.GetEntries() * 2)\r\n",
        "\r\n",
        "Bkgnd=ROOT.RooExponential(\"Exponential Background\",\"Bkgnd\",mass,exponent)\r\n",
        "\r\n",
        "model_BM=ROOT.RooAddPdf(\"Full Model\",\"model\",ROOT.RooArgList(Gauss,Bkgnd),ROOT.RooArgList(Gauss_Norm_BM, exp_Norm_BM) )\r\n",
        "model_BP=ROOT.RooAddPdf(\"Full Model\",\"model\",ROOT.RooArgList(Gauss,Bkgnd),ROOT.RooArgList(Gauss_Norm_BP, exp_Norm_BP) )"
      ],
      "execution_count": 23,
      "outputs": []
    },
    {
      "cell_type": "code",
      "metadata": {
        "colab": {
          "base_uri": "https://localhost:8080/"
        },
        "id": "fMcJ8waTL1bd",
        "outputId": "aded5eaa-0767-412f-f7a7-621833259bc8"
      },
      "source": [
        "#Put our data set into a RooDataSet structure\r\n",
        "\r\n",
        "data_to_fit_BM=ROOT.RooDataSet(\"Data Set\",\"data_to_fit\", TreeBM, ROOT.RooArgSet(mass))\r\n",
        "data_to_fit_BP=ROOT.RooDataSet(\"Data Set\",\"data_to_fit\", TreeBP, ROOT.RooArgSet(mass))\r\n",
        "\r\n",
        "#Then we can do the fitting:\r\n",
        "\r\n",
        "model_BM.fitTo(data_to_fit_BM)\r\n",
        "model_BP.fitTo(data_to_fit_BP)\r\n",
        "#if everything went well, you will see the outputs of RooFit below"
      ],
      "execution_count": 24,
      "outputs": [
        {
          "output_type": "execute_result",
          "data": {
            "text/plain": [
              "<ROOT.RooFitResult object at 0x(nil)>"
            ]
          },
          "metadata": {
            "tags": []
          },
          "execution_count": 24
        },
        {
          "output_type": "stream",
          "text": [
            "[#1] INFO:Eval -- RooAbsReal::attachToTree(M_m0) TTree Float_t branch M_m0 will be converted to double precision\n",
            "[#1] INFO:Eval -- RooTreeDataStore::loadValues(Data Set) Ignored 134 out of range events\n",
            "[#1] INFO:Eval -- RooAbsReal::attachToTree(M_m0) TTree Float_t branch M_m0 will be converted to double precision\n",
            "[#1] INFO:Eval -- RooTreeDataStore::loadValues(Data Set) Ignored 98 out of range events\n",
            "[#1] INFO:Minization -- p.d.f. provides expected number of events, including extended term in likelihood.\n",
            "[#1] INFO:Minization -- RooMinimizer::optimizeConst: activating const optimization\n",
            "[#1] INFO:Minization --  The following expressions will be evaluated in cache-and-track mode: (Gaussian Signal,Exponential Background)\n",
            " **********\n",
            " **   10 **SET PRINT           1\n",
            " **********\n",
            " **********\n",
            " **   11 **SET NOGRAD\n",
            " **********\n",
            " PARAMETER DEFINITIONS:\n",
            "    NO.   NAME         VALUE      STEP SIZE      LIMITS\n",
            "     1 Gauss_Norm   5.70000e+01  2.85000e+01    0.00000e+00  5.17500e+03\n",
            "     2 Mean         5.28500e+03  5.00000e+01    5.00000e+03  5.50000e+03\n",
            "     3 Width        2.00000e+01  5.00000e+00    0.00000e+00  5.00000e+01\n",
            "     4 exp_Norm     5.70000e+01  2.85000e+01    0.00000e+00  3.45000e+03\n",
            "     5 exponent    -2.00000e-02  4.00000e-01   -2.00000e+00  2.00000e+00\n",
            " **********\n",
            " **   12 **SET ERR         0.5\n",
            " **********\n",
            " **********\n",
            " **   13 **SET PRINT           1\n",
            " **********\n",
            " **********\n",
            " **   14 **SET STR           1\n",
            " **********\n",
            " NOW USING STRATEGY  1: TRY TO BALANCE SPEED AGAINST RELIABILITY\n",
            " **********\n",
            " **   15 **MIGRAD        2500           1\n",
            " **********\n",
            " FIRST CALL TO USER FUNCTION AT NEW START POINT, WITH IFLAG=4.\n",
            " START MIGRAD MINIMIZATION.  STRATEGY  1.  CONVERGENCE WHEN EDM .LT. 1.00e-03\n",
            " FCN=912.649 FROM MIGRAD    STATUS=INITIATE       38 CALLS          39 TOTAL\n",
            "                     EDM= unknown      STRATEGY= 1      NO ERROR MATRIX       \n",
            "  EXT PARAMETER               CURRENT GUESS       STEP         FIRST   \n",
            "  NO.   NAME      VALUE            ERROR          SIZE      DERIVATIVE \n",
            "   1  Gauss_Norm   5.70000e+01   2.85000e+01   0.00000e+00  -1.05649e+04\n",
            "   2  Mean         5.28500e+03   5.00000e+01   0.00000e+00  -4.35297e+02\n",
            "   3  Width        2.00000e+01   5.00000e+00   0.00000e+00   4.12442e+02\n",
            "   4  exp_Norm     5.70000e+01   2.85000e+01   0.00000e+00  -2.79336e+03\n",
            "   5  exponent    -3.81975e-03   4.00000e-01   8.09029e-03  -2.85551e+04\n",
            "                               ERR DEF= 0.5\n",
            " MIGRAD MINIMIZATION HAS CONVERGED.\n",
            " MIGRAD WILL VERIFY CONVERGENCE AND ERROR MATRIX.\n",
            " COVARIANCE MATRIX CALCULATED SUCCESSFULLY\n",
            " FCN=-2077.59 FROM MIGRAD    STATUS=CONVERGED     187 CALLS         188 TOTAL\n",
            "                     EDM=7.05304e-05    STRATEGY= 1      ERROR MATRIX ACCURATE \n",
            "  EXT PARAMETER                                   STEP         FIRST   \n",
            "  NO.   NAME      VALUE            ERROR          SIZE      DERIVATIVE \n",
            "   1  Gauss_Norm   1.25883e+03   3.65381e+01   5.13370e-04   1.66191e-01\n",
            "   2  Mean         5.28555e+03   5.19230e-01   6.60648e-05  -1.05548e+00\n",
            "   3  Width        1.71690e+01   4.23823e-01   5.51136e-04   3.07037e-01\n",
            "   4  exp_Norm     3.32205e+02   2.02081e+01   6.11901e-04  -1.94509e-01\n",
            "   5  exponent    -3.03315e-03   3.50971e-04   5.49779e-06   5.84295e+00\n",
            "                               ERR DEF= 0.5\n",
            " EXTERNAL ERROR MATRIX.    NDIM=  25    NPAR=  5    ERR DEF=0.5\n",
            "  1.335e+03 -2.065e-01  1.518e+00 -7.623e+01 -6.123e-04 \n",
            " -2.065e-01  2.696e-01 -7.139e-03  2.064e-01 -3.499e-06 \n",
            "  1.518e+00 -7.139e-03  1.796e-01 -1.518e+00 -1.173e-05 \n",
            " -7.623e+01  2.064e-01 -1.518e+00  4.084e+02  6.125e-04 \n",
            " -6.123e-04 -3.499e-06 -1.173e-05  6.125e-04  1.232e-07 \n",
            " PARAMETER  CORRELATION COEFFICIENTS  \n",
            "       NO.  GLOBAL      1      2      3      4      5\n",
            "        1  0.13571   1.000 -0.011  0.098 -0.103 -0.048\n",
            "        2  0.04280  -0.011  1.000 -0.032  0.020 -0.019\n",
            "        3  0.20592   0.098 -0.032  1.000 -0.177 -0.079\n",
            "        4  0.20943  -0.103  0.020 -0.177  1.000  0.086\n",
            "        5  0.11536  -0.048 -0.019 -0.079  0.086  1.000\n",
            " **********\n",
            " **   16 **SET ERR         0.5\n",
            " **********\n",
            " **********\n",
            " **   17 **SET PRINT           1\n",
            " **********\n",
            " **********\n",
            " **   18 **HESSE        2500\n",
            " **********\n",
            " COVARIANCE MATRIX CALCULATED SUCCESSFULLY\n",
            " FCN=-2077.59 FROM HESSE     STATUS=OK             31 CALLS         219 TOTAL\n",
            "                     EDM=7.05709e-05    STRATEGY= 1      ERROR MATRIX ACCURATE \n",
            "  EXT PARAMETER                                INTERNAL      INTERNAL  \n",
            "  NO.   NAME      VALUE            ERROR       STEP SIZE       VALUE   \n",
            "   1  Gauss_Norm   1.25883e+03   3.65388e+01   1.02674e-04  -5.39256e-01\n",
            "   2  Mean         5.28555e+03   5.19239e-01   1.32130e-05   1.42678e-01\n",
            "   3  Width        1.71690e+01   4.23858e-01   1.10227e-04  -3.18605e-01\n",
            "   4  exp_Norm     3.32205e+02   2.02092e+01   1.22380e-04  -9.39761e-01\n",
            "   5  exponent    -3.03315e-03   3.50980e-04   1.09956e-06  -1.51658e-03\n",
            "                               ERR DEF= 0.5\n",
            " EXTERNAL ERROR MATRIX.    NDIM=  25    NPAR=  5    ERR DEF=0.5\n",
            "  1.335e+03 -2.070e-01  1.521e+00 -7.630e+01 -6.137e-04 \n",
            " -2.070e-01  2.696e-01 -7.264e-03  2.069e-01 -3.492e-06 \n",
            "  1.521e+00 -7.264e-03  1.797e-01 -1.521e+00 -1.176e-05 \n",
            " -7.630e+01  2.069e-01 -1.521e+00  4.085e+02  6.136e-04 \n",
            " -6.137e-04 -3.492e-06 -1.176e-05  6.136e-04  1.232e-07 \n",
            " PARAMETER  CORRELATION COEFFICIENTS  \n",
            "       NO.  GLOBAL      1      2      3      4      5\n",
            "        1  0.13585   1.000 -0.011  0.098 -0.103 -0.048\n",
            "        2  0.04321  -0.011  1.000 -0.033  0.020 -0.019\n",
            "        3  0.20629   0.098 -0.033  1.000 -0.177 -0.079\n",
            "        4  0.20968  -0.103  0.020 -0.177  1.000  0.087\n",
            "        5  0.11559  -0.048 -0.019 -0.079  0.087  1.000\n",
            "[#1] INFO:Minization -- RooMinimizer::optimizeConst: deactivating const optimization\n",
            "[#1] INFO:Minization -- p.d.f. provides expected number of events, including extended term in likelihood.\n",
            "[#1] INFO:Minization -- RooMinimizer::optimizeConst: activating const optimization\n",
            "[#1] INFO:Minization --  The following expressions will be evaluated in cache-and-track mode: (Gaussian Signal,Exponential Background)\n",
            " **********\n",
            " **   19 **SET PRINT           1\n",
            " **********\n",
            " **********\n",
            " **   20 **SET NOGRAD\n",
            " **********\n",
            " PARAMETER DEFINITIONS:\n",
            "    NO.   NAME         VALUE      STEP SIZE      LIMITS\n",
            "     1 Gauss_Norm   5.50000e+01  2.75000e+01    0.00000e+00  4.97100e+03\n",
            "     2 Mean         5.28555e+03  5.19239e-01    5.00000e+03  5.50000e+03\n",
            "     3 Width        1.71690e+01  4.23858e-01    0.00000e+00  5.00000e+01\n",
            "     4 exp_Norm     5.50000e+01  2.75000e+01    0.00000e+00  3.31400e+03\n",
            "     5 exponent    -3.03315e-03  3.50980e-04   -2.00000e+00  2.00000e+00\n",
            " **********\n",
            " **   21 **SET ERR         0.5\n",
            " **********\n",
            " **********\n",
            " **   22 **SET PRINT           1\n",
            " **********\n",
            " **********\n",
            " **   23 **SET STR           1\n",
            " **********\n",
            " NOW USING STRATEGY  1: TRY TO BALANCE SPEED AGAINST RELIABILITY\n",
            " **********\n",
            " **   24 **MIGRAD        2500           1\n",
            " **********\n",
            " FIRST CALL TO USER FUNCTION AT NEW START POINT, WITH IFLAG=4.\n",
            " START MIGRAD MINIMIZATION.  STRATEGY  1.  CONVERGENCE WHEN EDM .LT. 1.00e-03\n",
            " FCN=1051.62 FROM MIGRAD    STATUS=INITIATE       14 CALLS          15 TOTAL\n",
            "                     EDM= unknown      STRATEGY= 1      NO ERROR MATRIX       \n",
            "  EXT PARAMETER               CURRENT GUESS       STEP         FIRST   \n",
            "  NO.   NAME      VALUE            ERROR          SIZE      DERIVATIVE \n",
            "   1  Gauss_Norm   5.50000e+01   2.75000e+01   5.47387e-02  -9.58799e+03\n",
            "   2  Mean         5.28555e+03   5.19239e-01   2.09828e-03   1.19469e+03\n",
            "   3  Width        1.71690e+01   4.23858e-01   1.78540e-02   9.09229e+01\n",
            "   4  exp_Norm     5.50000e+01   2.75000e+01   6.72211e-02  -3.34733e+03\n",
            "   5  exponent    -3.03315e-03   3.50980e-04   1.75490e-04  -4.04502e+03\n",
            "                               ERR DEF= 0.5\n",
            " MIGRAD MINIMIZATION HAS CONVERGED.\n",
            " MIGRAD WILL VERIFY CONVERGENCE AND ERROR MATRIX.\n",
            " COVARIANCE MATRIX CALCULATED SUCCESSFULLY\n",
            " FCN=-1792.92 FROM MIGRAD    STATUS=CONVERGED     135 CALLS         136 TOTAL\n",
            "                     EDM=0.000132213    STRATEGY= 1      ERROR MATRIX ACCURATE \n",
            "  EXT PARAMETER                                   STEP         FIRST   \n",
            "  NO.   NAME      VALUE            ERROR          SIZE      DERIVATIVE \n",
            "   1  Gauss_Norm   1.17272e+03   3.54719e+01   4.86030e-04  -4.82549e-01\n",
            "   2  Mean         5.28366e+03   5.67501e-01   6.69306e-05   7.47849e-01\n",
            "   3  Width        1.79900e+01   4.53794e-01   5.41767e-04  -1.55281e-01\n",
            "   4  exp_Norm     3.86091e+02   2.17245e+01   5.83992e-04   2.14461e-01\n",
            "   5  exponent    -3.51430e-03   3.36411e-04   4.87434e-06   1.91453e+01\n",
            "                               ERR DEF= 0.5\n",
            " EXTERNAL ERROR MATRIX.    NDIM=  25    NPAR=  5    ERR DEF=0.5\n",
            "  1.258e+03 -2.214e-01  1.640e+00 -8.583e+01 -7.205e-04 \n",
            " -2.214e-01  3.221e-01 -7.631e-03  2.215e-01 -3.831e-06 \n",
            "  1.640e+00 -7.631e-03  2.060e-01 -1.641e+00 -1.333e-05 \n",
            " -8.583e+01  2.215e-01 -1.641e+00  4.720e+02  7.210e-04 \n",
            " -7.205e-04 -3.831e-06 -1.333e-05  7.210e-04  1.132e-07 \n",
            " PARAMETER  CORRELATION COEFFICIENTS  \n",
            "       NO.  GLOBAL      1      2      3      4      5\n",
            "        1  0.14668   1.000 -0.011  0.102 -0.111 -0.060\n",
            "        2  0.04109  -0.011  1.000 -0.030  0.018 -0.020\n",
            "        3  0.19999   0.102 -0.030  1.000 -0.166 -0.087\n",
            "        4  0.20795  -0.111  0.018 -0.166  1.000  0.099\n",
            "        5  0.13190  -0.060 -0.020 -0.087  0.099  1.000\n",
            " **********\n",
            " **   25 **SET ERR         0.5\n",
            " **********\n",
            " **********\n",
            " **   26 **SET PRINT           1\n",
            " **********\n",
            " **********\n",
            " **   27 **HESSE        2500\n",
            " **********\n",
            " COVARIANCE MATRIX CALCULATED SUCCESSFULLY\n",
            " FCN=-1792.92 FROM HESSE     STATUS=OK             31 CALLS         167 TOTAL\n",
            "                     EDM=0.000132254    STRATEGY= 1      ERROR MATRIX ACCURATE \n",
            "  EXT PARAMETER                                INTERNAL      INTERNAL  \n",
            "  NO.   NAME      VALUE            ERROR       STEP SIZE       VALUE   \n",
            "   1  Gauss_Norm   1.17272e+03   3.54727e+01   9.72061e-05  -5.56451e-01\n",
            "   2  Mean         5.28366e+03   5.67508e-01   1.33861e-05   1.35057e-01\n",
            "   3  Width        1.79900e+01   4.53828e-01   1.08353e-04  -2.84213e-01\n",
            "   4  exp_Norm     3.86091e+02   2.17256e+01   1.16798e-04  -8.74143e-01\n",
            "   5  exponent    -3.51430e-03   3.36420e-04   9.74868e-07  -1.75715e-03\n",
            "                               ERR DEF= 0.5\n",
            " EXTERNAL ERROR MATRIX.    NDIM=  25    NPAR=  5    ERR DEF=0.5\n",
            "  1.258e+03 -2.217e-01  1.643e+00 -8.590e+01 -7.218e-04 \n",
            " -2.217e-01  3.221e-01 -7.757e-03  2.217e-01 -3.827e-06 \n",
            "  1.643e+00 -7.757e-03  2.060e-01 -1.644e+00 -1.337e-05 \n",
            " -8.590e+01  2.217e-01 -1.644e+00  4.721e+02  7.220e-04 \n",
            " -7.218e-04 -3.827e-06 -1.337e-05  7.220e-04  1.132e-07 \n",
            " PARAMETER  CORRELATION COEFFICIENTS  \n",
            "       NO.  GLOBAL      1      2      3      4      5\n",
            "        1  0.14683   1.000 -0.011  0.102 -0.111 -0.060\n",
            "        2  0.04143  -0.011  1.000 -0.030  0.018 -0.020\n",
            "        3  0.20036   0.102 -0.030  1.000 -0.167 -0.088\n",
            "        4  0.20818  -0.111  0.018 -0.167  1.000  0.099\n",
            "        5  0.13211  -0.060 -0.020 -0.088  0.099  1.000\n",
            "[#1] INFO:Minization -- RooMinimizer::optimizeConst: deactivating const optimization\n"
          ],
          "name": "stdout"
        }
      ]
    },
    {
      "cell_type": "code",
      "metadata": {
        "colab": {
          "base_uri": "https://localhost:8080/",
          "height": 574
        },
        "id": "ebMyxnTwL40O",
        "outputId": "881ea442-aeef-4e16-9172-eae90d1d4ad1"
      },
      "source": [
        "#Now to plot it all\r\n",
        "c1=ROOT.TCanvas(\"c1\",\"c1\")\r\n",
        "frame_BM=mass.frame()\r\n",
        "data_to_fit_BM.plotOn(frame_BM)\r\n",
        "\r\n",
        "model_BM.plotOn(frame_BM, ROOT.RooFit.Components(\"Gaussian Signal\"),ROOT.RooFit.LineColor(8),ROOT.RooFit.LineStyle(2))\r\n",
        "model_BM.plotOn(frame_BM, ROOT.RooFit.Components(\"Exponential Background\"),ROOT.RooFit.LineColor(46),ROOT.RooFit.LineStyle(2))\r\n",
        "model_BM.plotOn(frame_BM)\r\n",
        "\r\n",
        "frame_BM.Draw()\r\n",
        "\r\n",
        "c1.Update()\r\n",
        "c1.Draw() \r\n",
        "\r\n",
        "# This is the graph for the B- case"
      ],
      "execution_count": 25,
      "outputs": [
        {
          "output_type": "stream",
          "text": [
            "[#1] INFO:Plotting -- RooAbsPdf::plotOn(Full Model) directly selected PDF components: (Gaussian Signal)\n",
            "[#1] INFO:Plotting -- RooAbsPdf::plotOn(Full Model) indirectly selected PDF components: ()\n",
            "[#1] INFO:Plotting -- RooAbsPdf::plotOn(Full Model) directly selected PDF components: (Exponential Background)\n",
            "[#1] INFO:Plotting -- RooAbsPdf::plotOn(Full Model) indirectly selected PDF components: ()\n"
          ],
          "name": "stdout"
        },
        {
          "output_type": "stream",
          "text": [
            "Warning in <TCanvas::Constructor>: Deleting canvas with same name: c1\n"
          ],
          "name": "stderr"
        },
        {
          "output_type": "display_data",
          "data": {
            "image/png": "[encoded data removed]",
            "text/plain": [
              "<IPython.core.display.Image object>"
            ]
          },
          "metadata": {
            "tags": []
          }
        }
      ]
    },
    {
      "cell_type": "code",
      "metadata": {
        "colab": {
          "base_uri": "https://localhost:8080/",
          "height": 574
        },
        "id": "SVmbFkzmOTX4",
        "outputId": "8064864c-c4dd-43ba-f5a7-4ba69672c333"
      },
      "source": [
        "c1=ROOT.TCanvas(\"c1\",\"c1\")\r\n",
        "frame_BP=mass.frame()\r\n",
        "data_to_fit_BP.plotOn(frame_BP)\r\n",
        "\r\n",
        "model_BP.plotOn(frame_BP, ROOT.RooFit.Components(\"Gaussian Signal\"),ROOT.RooFit.LineColor(8),ROOT.RooFit.LineStyle(2))\r\n",
        "model_BP.plotOn(frame_BP, ROOT.RooFit.Components(\"Exponential Background\"),ROOT.RooFit.LineColor(46),ROOT.RooFit.LineStyle(2))\r\n",
        "model_BP.plotOn(frame_BP)\r\n",
        "\r\n",
        "frame_BP.Draw()\r\n",
        "\r\n",
        "c1.Update()\r\n",
        "c1.Draw()\r\n",
        "\r\n",
        "#This is the graph for the B+ case"
      ],
      "execution_count": 26,
      "outputs": [
        {
          "output_type": "stream",
          "text": [
            "[#1] INFO:Plotting -- RooAbsPdf::plotOn(Full Model) directly selected PDF components: (Gaussian Signal)\n",
            "[#1] INFO:Plotting -- RooAbsPdf::plotOn(Full Model) indirectly selected PDF components: ()\n",
            "[#1] INFO:Plotting -- RooAbsPdf::plotOn(Full Model) directly selected PDF components: (Exponential Background)\n",
            "[#1] INFO:Plotting -- RooAbsPdf::plotOn(Full Model) indirectly selected PDF components: ()\n"
          ],
          "name": "stdout"
        },
        {
          "output_type": "stream",
          "text": [
            "Warning in <TCanvas::Constructor>: Deleting canvas with same name: c1\n"
          ],
          "name": "stderr"
        },
        {
          "output_type": "display_data",
          "data": {
            "image/png": "[encoded data removed]",
            "text/plain": [
              "<IPython.core.display.Image object>"
            ]
          },
          "metadata": {
            "tags": []
          }
        }
      ]
    },
    {
      "cell_type": "code",
      "metadata": {
        "colab": {
          "base_uri": "https://localhost:8080/"
        },
        "id": "3ECPohEKOr4n",
        "outputId": "b9923887-9513-4281-9dbc-2188ccd7bded"
      },
      "source": [
        "#Printing the values we can now start calculating the assymetry\r\n",
        "print(\"For the B minus we get:\")\r\n",
        "print(Gauss_Norm_BM.getValV())\r\n",
        "Nm = Gauss_Norm_BM.getValV()\r\n",
        "print(Gauss_Norm_BM.getError())\r\n",
        "print(frame_BM.chiSquare())\r\n",
        "\r\n",
        "print(\"For the B plus we get:\")\r\n",
        "print(Gauss_Norm_BP.getValV())\r\n",
        "Np = Gauss_Norm_BP.getValV()\r\n",
        "print(Gauss_Norm_BP.getError())\r\n",
        "print(frame_BP.chiSquare())"
      ],
      "execution_count": 27,
      "outputs": [
        {
          "output_type": "stream",
          "text": [
            "For the B minus we get:\n",
            "1258.825441\n",
            "36.5388013339\n",
            "0.967865362163\n",
            "For the B plus we get:\n",
            "1172.7187235\n",
            "35.472662639\n",
            "0.816509452053\n"
          ],
          "name": "stdout"
        }
      ]
    },
    {
      "cell_type": "markdown",
      "metadata": {
        "id": "r8VB5uN1obc4"
      },
      "source": [
        "Once we have defined if it's a B<sup>+</sup> or a B <sup>-</sup>, we should go ahead and ensure the pre-selection is applied and then plot our B mass, and fit the model to find the yield.\r\n",
        "\r\n",
        "We can then calculate the assymetry from this equation:\r\n",
        "\r\n",
        "$A=\\frac{(N^{B-}-N^{B+})}{(N^{B-}+N^{B+})}$\r\n",
        "\r\n",
        "Where N<sup>B+/- </sup> is the number of events found from the fitted yield of the signal from each data set.\r\n",
        "\r\n",
        "The uncertainty on this result is given by:\r\n",
        "\r\n",
        "$\\sigma_A=\\sqrt\\frac{1-A^2}{N^{B-}+N^{B+}}$\r\n",
        "\r\n",
        "Calculate these two values for your data and print them below:"
      ]
    },
    {
      "cell_type": "code",
      "metadata": {
        "id": "UiPNe2iuobSK",
        "colab": {
          "base_uri": "https://localhost:8080/"
        },
        "outputId": "e9590a0d-aa5b-4c06-8008-d801d421547e"
      },
      "source": [
        "#Here do your calculation of the final result\r\n",
        "A = (Nm-Np)/(Nm+Np)\r\n",
        "print(A)"
      ],
      "execution_count": 29,
      "outputs": [
        {
          "output_type": "stream",
          "text": [
            "0.0354123600781\n"
          ],
          "name": "stdout"
        }
      ]
    },
    {
      "cell_type": "code",
      "metadata": {
        "colab": {
          "base_uri": "https://localhost:8080/"
        },
        "id": "smii0Q0MRIPH",
        "outputId": "dff1ce07-5e3d-4b40-88da-0206f3746ecf"
      },
      "source": [
        "import math\r\n",
        "sigma = math.sqrt((1 - A**2)/(Nm + Np))\r\n",
        "print(sigma)"
      ],
      "execution_count": 30,
      "outputs": [
        {
          "output_type": "stream",
          "text": [
            "0.0202668586131\n"
          ],
          "name": "stdout"
        }
      ]
    },
    {
      "cell_type": "markdown",
      "metadata": {
        "id": "r5B--_33okz1"
      },
      "source": [
        "#Congratulations!\r\n",
        "\r\n",
        "You just made your first LHCb physics analysis. Does this seem like a reasonable result? Did we explain why we have an excess of mass in the Universe?"
      ]
    },
    {
      "cell_type": "markdown",
      "metadata": {
        "id": "bqlnrrN6j1N_"
      },
      "source": [
        "Going through the code again everything seems to look rather good. The M_m0 graphs for the cutted trees look very good and the resulting assymetry from these is in the area between -1 and 1, which indicates a realistic result.\r\n",
        "\r\n",
        "The assymetry with its sigma does not reach 0, which indicates that there is a missmatch between matter and anti matter in our experiment. However, in this case more B- were present than B+, which indicates the reverse case, an excess of antimatter. Still the existance of this missmatch allows for the possibility of a missmatch in the mass direction. "
      ]
    },
    {
      "cell_type": "markdown",
      "metadata": {
        "id": "dzybWZylomGu"
      },
      "source": [
        "## **Bonus content only below here:**"
      ]
    },
    {
      "cell_type": "markdown",
      "metadata": {
        "id": "odpbRqdoou5M"
      },
      "source": [
        "To make a further anaysis, we can look into the intermediate processes.\r\n",
        "\r\n",
        "We have so far considered only that the B meson ultimately decays into three kaons. It may be that on the way, the B meson first decays into a Kaon and another particle, and then from that particle to two Kaons.\r\n",
        "\r\n",
        "We would expect this to be one of three possible modes (for B<sup>+</sup>):\r\n",
        "\r\n",
        "$R^{++} \\rightarrow K_1^+ +K_2^+$\r\n",
        "\r\n",
        "(we don't expect this to happen because of the like charges in the Kaons)\r\n",
        "\r\n",
        "$R^0 \\rightarrow K_1^+ +K_3^-$\r\n",
        "\r\n",
        "$R^0 \\rightarrow K_2^+ +K_3^-$\r\n",
        "\r\n",
        "(Expect symmetric arrangements for B<sup>-</sup>)\r\n",
        "\r\n",
        "To analyse the intermediate states we can measure the invarient masses of the intermediate states and then plot them on what is called a Dalitz plot (this is a 2D plot with two different two body decays (from the three body decay) on each axis)\r\n",
        "\r\n",
        "![Dalitz Plot](https://slideplayer.com/slide/15960097/88/images/15/Dalitz+plot%3A+%CE%9B+c+%2B+%E2%86%92%F0%9D%91%9D+%F0%9D%90%BE+%E2%88%92+%F0%9D%9C%8B+%2B.jpg)\r\n"
      ]
    },
    {
      "cell_type": "code",
      "metadata": {
        "id": "SqJxvZSKo1cW"
      },
      "source": [
        "#Define a function to find the invarient mass of two given Kaons"
      ],
      "execution_count": null,
      "outputs": []
    },
    {
      "cell_type": "code",
      "metadata": {
        "id": "YPVqECfPo3Wc"
      },
      "source": [
        "#Then, ensuring you're still taking the data after the selection, make a Dalitz plot. This is a 2-D scatter plot (use e.g. TH2F to make the plot where we used TH1F before)\r\n",
        "#Choose an appropriate binning in your scatter "
      ],
      "execution_count": null,
      "outputs": []
    },
    {
      "cell_type": "markdown",
      "metadata": {
        "id": "qPoPLt4Uo6QB"
      },
      "source": [
        "We can further improve our plot, since two sets of particles on each axis are exactly the same (one positive Kaon, one negative Kaon). So we can plot the maximum of the two values on one axis and the minimum on the other. We can use a quick numpy check and then plot those values."
      ]
    },
    {
      "cell_type": "code",
      "metadata": {
        "id": "KJ_fe2R3o8Aq"
      },
      "source": [
        "#Make the revised Dalitz plot here for B+ mesons"
      ],
      "execution_count": null,
      "outputs": []
    },
    {
      "cell_type": "code",
      "metadata": {
        "id": "t46slV8Yo-Ed"
      },
      "source": [
        "#Make the revised Dalitz plot here for B- mesons"
      ],
      "execution_count": null,
      "outputs": []
    },
    {
      "cell_type": "code",
      "metadata": {
        "id": "RfTDh69qo9_q"
      },
      "source": [
        "#Where we have a higher density of points (or a bigger value in the bin) this is indication of an intermediate resonance\r\n",
        "#Check out the possible resonances you have found in the PDG (http://pdg.lbl.gov/2020/tables/contents_tables.html)"
      ],
      "execution_count": null,
      "outputs": []
    },
    {
      "cell_type": "code",
      "metadata": {
        "id": "wl8kA0JyyP4L"
      },
      "source": [
        ""
      ],
      "execution_count": null,
      "outputs": []
    }
  ]
}